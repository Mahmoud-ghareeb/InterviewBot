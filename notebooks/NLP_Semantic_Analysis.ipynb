{
  "cells": [
    {
      "cell_type": "code",
      "execution_count": 4,
      "id": "f2f73ed2",
      "metadata": {
        "id": "f2f73ed2"
      },
      "outputs": [],
      "source": [
        "import numpy as np\n",
        "import pandas as pd\n",
        "from openai import OpenAI\n",
        "import yaml\n",
        "import json\n",
        "import os\n",
        "from dotenv import load_dotenv"
      ]
    },
    {
      "cell_type": "code",
      "execution_count": 5,
      "id": "89731287",
      "metadata": {
        "id": "89731287"
      },
      "outputs": [
        {
          "data": {
            "application/vnd.jupyter.widget-view+json": {
              "model_id": "e87eacdd0faf41d2a3d42626f05db333",
              "version_major": 2,
              "version_minor": 0
            },
            "text/plain": [
              ".gitattributes:   0%|          | 0.00/1.18k [00:00<?, ?B/s]"
            ]
          },
          "metadata": {},
          "output_type": "display_data"
        },
        {
          "data": {
            "application/vnd.jupyter.widget-view+json": {
              "model_id": "558c02cf648c46fdaeba47f345d0c2ae",
              "version_major": 2,
              "version_minor": 0
            },
            "text/plain": [
              "1_Pooling/config.json:   0%|          | 0.00/190 [00:00<?, ?B/s]"
            ]
          },
          "metadata": {},
          "output_type": "display_data"
        },
        {
          "data": {
            "application/vnd.jupyter.widget-view+json": {
              "model_id": "6fc36c6f8f724e6dacbf8374a249fcb8",
              "version_major": 2,
              "version_minor": 0
            },
            "text/plain": [
              "README.md:   0%|          | 0.00/10.6k [00:00<?, ?B/s]"
            ]
          },
          "metadata": {},
          "output_type": "display_data"
        },
        {
          "data": {
            "application/vnd.jupyter.widget-view+json": {
              "model_id": "66395f01c141424ea6934f944adcb75f",
              "version_major": 2,
              "version_minor": 0
            },
            "text/plain": [
              "config.json:   0%|          | 0.00/612 [00:00<?, ?B/s]"
            ]
          },
          "metadata": {},
          "output_type": "display_data"
        },
        {
          "data": {
            "application/vnd.jupyter.widget-view+json": {
              "model_id": "4631574583ca4d67b5ddaf17dfbdde47",
              "version_major": 2,
              "version_minor": 0
            },
            "text/plain": [
              "config_sentence_transformers.json:   0%|          | 0.00/116 [00:00<?, ?B/s]"
            ]
          },
          "metadata": {},
          "output_type": "display_data"
        },
        {
          "data": {
            "application/vnd.jupyter.widget-view+json": {
              "model_id": "0e06690cb5654654957cadbc5080ecd2",
              "version_major": 2,
              "version_minor": 0
            },
            "text/plain": [
              "data_config.json:   0%|          | 0.00/39.3k [00:00<?, ?B/s]"
            ]
          },
          "metadata": {},
          "output_type": "display_data"
        },
        {
          "data": {
            "application/vnd.jupyter.widget-view+json": {
              "model_id": "a392a954815e4e209b948fb6fff00fc6",
              "version_major": 2,
              "version_minor": 0
            },
            "text/plain": [
              "pytorch_model.bin:   0%|          | 0.00/90.9M [00:00<?, ?B/s]"
            ]
          },
          "metadata": {},
          "output_type": "display_data"
        },
        {
          "data": {
            "application/vnd.jupyter.widget-view+json": {
              "model_id": "2cda9a8ef14249c38125dcb0e2bb7c7c",
              "version_major": 2,
              "version_minor": 0
            },
            "text/plain": [
              "sentence_bert_config.json:   0%|          | 0.00/53.0 [00:00<?, ?B/s]"
            ]
          },
          "metadata": {},
          "output_type": "display_data"
        },
        {
          "data": {
            "application/vnd.jupyter.widget-view+json": {
              "model_id": "ae172ab4ce3c4160a4602ea0132331f0",
              "version_major": 2,
              "version_minor": 0
            },
            "text/plain": [
              "special_tokens_map.json:   0%|          | 0.00/112 [00:00<?, ?B/s]"
            ]
          },
          "metadata": {},
          "output_type": "display_data"
        },
        {
          "data": {
            "application/vnd.jupyter.widget-view+json": {
              "model_id": "1c41dff0ca4b4d938b5a26d89a055abc",
              "version_major": 2,
              "version_minor": 0
            },
            "text/plain": [
              "tokenizer.json:   0%|          | 0.00/466k [00:00<?, ?B/s]"
            ]
          },
          "metadata": {},
          "output_type": "display_data"
        },
        {
          "data": {
            "application/vnd.jupyter.widget-view+json": {
              "model_id": "27c5e73c5ad740c894e52ff1698a5b72",
              "version_major": 2,
              "version_minor": 0
            },
            "text/plain": [
              "tokenizer_config.json:   0%|          | 0.00/350 [00:00<?, ?B/s]"
            ]
          },
          "metadata": {},
          "output_type": "display_data"
        },
        {
          "data": {
            "application/vnd.jupyter.widget-view+json": {
              "model_id": "5972a355ef13442986ed0c0cd99eb8ce",
              "version_major": 2,
              "version_minor": 0
            },
            "text/plain": [
              "train_script.py:   0%|          | 0.00/13.2k [00:00<?, ?B/s]"
            ]
          },
          "metadata": {},
          "output_type": "display_data"
        },
        {
          "data": {
            "application/vnd.jupyter.widget-view+json": {
              "model_id": "5bd3d8f421874501a748befcc00020c8",
              "version_major": 2,
              "version_minor": 0
            },
            "text/plain": [
              "vocab.txt:   0%|          | 0.00/232k [00:00<?, ?B/s]"
            ]
          },
          "metadata": {},
          "output_type": "display_data"
        },
        {
          "data": {
            "application/vnd.jupyter.widget-view+json": {
              "model_id": "fa744e572bbd4f05a5ad7dd9317046f0",
              "version_major": 2,
              "version_minor": 0
            },
            "text/plain": [
              "modules.json:   0%|          | 0.00/349 [00:00<?, ?B/s]"
            ]
          },
          "metadata": {},
          "output_type": "display_data"
        }
      ],
      "source": [
        "from sentence_transformers import SentenceTransformer, util\n",
        "from functools import lru_cache\n",
        "\n",
        "@lru_cache(maxsize=None)\n",
        "def load_model():\n",
        "    return SentenceTransformer('all-MiniLM-L6-v2')\n",
        "\n",
        "model = SentenceTransformer('all-MiniLM-L6-v2')"
      ]
    },
    {
      "cell_type": "code",
      "execution_count": 6,
      "id": "693b4887",
      "metadata": {
        "id": "693b4887"
      },
      "outputs": [],
      "source": [
        "# Load the Excel file\n",
        "excel_file = \"data/Data_analyst_question.xlsx\"\n",
        "df = pd.read_excel(excel_file)"
      ]
    },
    {
      "cell_type": "code",
      "execution_count": 7,
      "id": "cdc52592",
      "metadata": {
        "colab": {
          "base_uri": "https://localhost:8080/",
          "height": 424
        },
        "id": "cdc52592",
        "outputId": "77158968-8e94-47c1-c7db-a2faea71cd07"
      },
      "outputs": [
        {
          "data": {
            "text/html": [
              "<div>\n",
              "<style scoped>\n",
              "    .dataframe tbody tr th:only-of-type {\n",
              "        vertical-align: middle;\n",
              "    }\n",
              "\n",
              "    .dataframe tbody tr th {\n",
              "        vertical-align: top;\n",
              "    }\n",
              "\n",
              "    .dataframe thead th {\n",
              "        text-align: right;\n",
              "    }\n",
              "</style>\n",
              "<table border=\"1\" class=\"dataframe\">\n",
              "  <thead>\n",
              "    <tr style=\"text-align: right;\">\n",
              "      <th></th>\n",
              "      <th>Category</th>\n",
              "      <th>Question</th>\n",
              "      <th>Correct Answer</th>\n",
              "    </tr>\n",
              "  </thead>\n",
              "  <tbody>\n",
              "    <tr>\n",
              "      <th>0</th>\n",
              "      <td>R</td>\n",
              "      <td>How can you load a .csv file in R?</td>\n",
              "      <td>Loading a .csv file in R is quite easy. All yo...</td>\n",
              "    </tr>\n",
              "    <tr>\n",
              "      <th>1</th>\n",
              "      <td>R</td>\n",
              "      <td>What is Rmarkdown? What is the use of it?</td>\n",
              "      <td>RMarkdown is a reporting tool provided by R. W...</td>\n",
              "    </tr>\n",
              "    <tr>\n",
              "      <th>2</th>\n",
              "      <td>R</td>\n",
              "      <td>How do you install a package in R?</td>\n",
              "      <td>To install a package in R: install.packages(“&lt;...</td>\n",
              "    </tr>\n",
              "    <tr>\n",
              "      <th>3</th>\n",
              "      <td>R</td>\n",
              "      <td>What are the steps to build and evaluate a lin...</td>\n",
              "      <td>These are sequential steps which need to be fo...</td>\n",
              "    </tr>\n",
              "    <tr>\n",
              "      <th>4</th>\n",
              "      <td>R</td>\n",
              "      <td>Name some packages in R, which can be used for...</td>\n",
              "      <td>These are some packages in R which can used fo...</td>\n",
              "    </tr>\n",
              "    <tr>\n",
              "      <th>...</th>\n",
              "      <td>...</td>\n",
              "      <td>...</td>\n",
              "      <td>...</td>\n",
              "    </tr>\n",
              "    <tr>\n",
              "      <th>101</th>\n",
              "      <td>Data Structure</td>\n",
              "      <td>What is an asymptotic analysis of an algorithm?</td>\n",
              "      <td>Asymptotic analysis of an algorithm defines th...</td>\n",
              "    </tr>\n",
              "    <tr>\n",
              "      <th>102</th>\n",
              "      <td>Data Structure</td>\n",
              "      <td>What is hashmap in data structure?</td>\n",
              "      <td>Hashmap is a data structure that uses an imple...</td>\n",
              "    </tr>\n",
              "    <tr>\n",
              "      <th>103</th>\n",
              "      <td>Data Structure</td>\n",
              "      <td>What is the requirement for an object to be us...</td>\n",
              "      <td>The key or value object that gets used in the ...</td>\n",
              "    </tr>\n",
              "    <tr>\n",
              "      <th>104</th>\n",
              "      <td>Data Structure</td>\n",
              "      <td>What is the time complexity of basic operation...</td>\n",
              "      <td>The time complexity is O(1) assuming that the ...</td>\n",
              "    </tr>\n",
              "    <tr>\n",
              "      <th>105</th>\n",
              "      <td>Data Structure</td>\n",
              "      <td>What is binary tree data structure? What are t...</td>\n",
              "      <td>A binary tree is a data structure that is used...</td>\n",
              "    </tr>\n",
              "  </tbody>\n",
              "</table>\n",
              "<p>106 rows × 3 columns</p>\n",
              "</div>"
            ],
            "text/plain": [
              "           Category                                           Question  \\\n",
              "0                 R                 How can you load a .csv file in R?   \n",
              "1                 R          What is Rmarkdown? What is the use of it?   \n",
              "2                 R                 How do you install a package in R?   \n",
              "3                 R  What are the steps to build and evaluate a lin...   \n",
              "4                 R  Name some packages in R, which can be used for...   \n",
              "..              ...                                                ...   \n",
              "101  Data Structure    What is an asymptotic analysis of an algorithm?   \n",
              "102  Data Structure                 What is hashmap in data structure?   \n",
              "103  Data Structure  What is the requirement for an object to be us...   \n",
              "104  Data Structure  What is the time complexity of basic operation...   \n",
              "105  Data Structure  What is binary tree data structure? What are t...   \n",
              "\n",
              "                                        Correct Answer  \n",
              "0    Loading a .csv file in R is quite easy. All yo...  \n",
              "1    RMarkdown is a reporting tool provided by R. W...  \n",
              "2    To install a package in R: install.packages(“<...  \n",
              "3    These are sequential steps which need to be fo...  \n",
              "4    These are some packages in R which can used fo...  \n",
              "..                                                 ...  \n",
              "101  Asymptotic analysis of an algorithm defines th...  \n",
              "102  Hashmap is a data structure that uses an imple...  \n",
              "103  The key or value object that gets used in the ...  \n",
              "104  The time complexity is O(1) assuming that the ...  \n",
              "105  A binary tree is a data structure that is used...  \n",
              "\n",
              "[106 rows x 3 columns]"
            ]
          },
          "execution_count": 7,
          "metadata": {},
          "output_type": "execute_result"
        }
      ],
      "source": [
        "#selected_questions\n",
        "df"
      ]
    },
    {
      "cell_type": "code",
      "execution_count": 8,
      "id": "e3f366cb",
      "metadata": {
        "colab": {
          "base_uri": "https://localhost:8080/"
        },
        "id": "e3f366cb",
        "outputId": "40cea7f2-8d3b-4465-84f1-45eca02e8b5d"
      },
      "outputs": [
        {
          "name": "stdout",
          "output_type": "stream",
          "text": [
            "Available Categories:\n",
            "1. R\n",
            "2. Python\n",
            "3. Data Warehouse\n",
            "4. Database\n",
            "5. MySQL\n",
            "6. Algorithms\n",
            "7. Data Structure\n"
          ]
        }
      ],
      "source": [
        "# Ask the user to choose a category from column A (Category)\n",
        "print(\"Available Categories:\")\n",
        "categories = df[\"Category\"].unique()\n",
        "for idx, category in enumerate(categories):\n",
        "    print(f\"{idx + 1}. {category}\")\n",
        "\n",
        "category_choice = int(input(\"Choose a category (enter the corresponding number): \")) - 1\n",
        "selected_category = categories[category_choice]"
      ]
    },
    {
      "cell_type": "code",
      "execution_count": 9,
      "id": "dbc576fa",
      "metadata": {
        "id": "dbc576fa"
      },
      "outputs": [],
      "source": [
        "category_data = df[df[\"Category\"] == selected_category]\n",
        "category_data = category_data.sample(frac=1).reset_index(drop=True)"
      ]
    },
    {
      "cell_type": "code",
      "execution_count": 10,
      "id": "IfDLQQ7RhMik",
      "metadata": {
        "colab": {
          "base_uri": "https://localhost:8080/",
          "height": 551
        },
        "id": "IfDLQQ7RhMik",
        "outputId": "26b17bbe-749e-4f33-86ba-b70c7779186f"
      },
      "outputs": [
        {
          "data": {
            "text/html": [
              "<div>\n",
              "<style scoped>\n",
              "    .dataframe tbody tr th:only-of-type {\n",
              "        vertical-align: middle;\n",
              "    }\n",
              "\n",
              "    .dataframe tbody tr th {\n",
              "        vertical-align: top;\n",
              "    }\n",
              "\n",
              "    .dataframe thead th {\n",
              "        text-align: right;\n",
              "    }\n",
              "</style>\n",
              "<table border=\"1\" class=\"dataframe\">\n",
              "  <thead>\n",
              "    <tr style=\"text-align: right;\">\n",
              "      <th></th>\n",
              "      <th>Category</th>\n",
              "      <th>Question</th>\n",
              "      <th>Correct Answer</th>\n",
              "    </tr>\n",
              "  </thead>\n",
              "  <tbody>\n",
              "    <tr>\n",
              "      <th>0</th>\n",
              "      <td>Python</td>\n",
              "      <td>What is PIP?</td>\n",
              "      <td>PIP denotes Python Installer Package. It is us...</td>\n",
              "    </tr>\n",
              "    <tr>\n",
              "      <th>1</th>\n",
              "      <td>Python</td>\n",
              "      <td>How Can You Copy Objects in Python?</td>\n",
              "      <td>The function used to copy objects in Python ar...</td>\n",
              "    </tr>\n",
              "    <tr>\n",
              "      <th>2</th>\n",
              "      <td>Python</td>\n",
              "      <td>How Do You Compute the Euclidean Distance Betw...</td>\n",
              "      <td>&gt;&gt; #Input\\n\\n&gt;&gt;p = pd.Series([1, 2, 3, 4, 5, 6...</td>\n",
              "    </tr>\n",
              "    <tr>\n",
              "      <th>3</th>\n",
              "      <td>Python</td>\n",
              "      <td>How to combine dataframes in Pandas?</td>\n",
              "      <td>The following are the ways through which the d...</td>\n",
              "    </tr>\n",
              "    <tr>\n",
              "      <th>4</th>\n",
              "      <td>Python</td>\n",
              "      <td>What are Python libraries?</td>\n",
              "      <td>A Python library is a group of Python packages...</td>\n",
              "    </tr>\n",
              "    <tr>\n",
              "      <th>5</th>\n",
              "      <td>Python</td>\n",
              "      <td>What do you mean by underfitting a dataset?</td>\n",
              "      <td>Underfitting a dataset means our model is fitt...</td>\n",
              "    </tr>\n",
              "    <tr>\n",
              "      <th>6</th>\n",
              "      <td>Python</td>\n",
              "      <td>What Is the Difference Between Matrices and Ar...</td>\n",
              "      <td>A matrix comes from linear algebra and is a tw...</td>\n",
              "    </tr>\n",
              "    <tr>\n",
              "      <th>7</th>\n",
              "      <td>Python</td>\n",
              "      <td>What is the Lambda function and why it is used...</td>\n",
              "      <td>A lambda function is a type of anonymous funct...</td>\n",
              "    </tr>\n",
              "    <tr>\n",
              "      <th>8</th>\n",
              "      <td>Python</td>\n",
              "      <td>Write a program that checks if all of the numb...</td>\n",
              "      <td>def check_distinct(data_list):\\n\\n if len(data...</td>\n",
              "    </tr>\n",
              "    <tr>\n",
              "      <th>9</th>\n",
              "      <td>Python</td>\n",
              "      <td>What Advantage Does the Numpy Array Have over ...</td>\n",
              "      <td>Numpy is written in C so that all its complexi...</td>\n",
              "    </tr>\n",
              "    <tr>\n",
              "      <th>10</th>\n",
              "      <td>Python</td>\n",
              "      <td>What are built-in types of Python?</td>\n",
              "      <td>Built in functions, Boolean, String, Complex n...</td>\n",
              "    </tr>\n",
              "    <tr>\n",
              "      <th>11</th>\n",
              "      <td>Python</td>\n",
              "      <td>Is Python Object-oriented or Functional Progra...</td>\n",
              "      <td>Python is considered a multi-paradigm language...</td>\n",
              "    </tr>\n",
              "    <tr>\n",
              "      <th>12</th>\n",
              "      <td>Python</td>\n",
              "      <td>What is inheritance in Python?</td>\n",
              "      <td>Inheritance allows one class to gain all of an...</td>\n",
              "    </tr>\n",
              "    <tr>\n",
              "      <th>13</th>\n",
              "      <td>Python</td>\n",
              "      <td>What is slicing in Python?</td>\n",
              "      <td>Slicing is a technique for gaining access to s...</td>\n",
              "    </tr>\n",
              "    <tr>\n",
              "      <th>14</th>\n",
              "      <td>Python</td>\n",
              "      <td>How Is Multithreading Achieved in Python?</td>\n",
              "      <td>Multithreading usually implies that multiple t...</td>\n",
              "    </tr>\n",
              "    <tr>\n",
              "      <th>15</th>\n",
              "      <td>Python</td>\n",
              "      <td>How is Memory managed in Python?</td>\n",
              "      <td>Python has a private heap space that stores al...</td>\n",
              "    </tr>\n",
              "  </tbody>\n",
              "</table>\n",
              "</div>"
            ],
            "text/plain": [
              "   Category                                           Question  \\\n",
              "0    Python                                       What is PIP?   \n",
              "1    Python                How Can You Copy Objects in Python?   \n",
              "2    Python  How Do You Compute the Euclidean Distance Betw...   \n",
              "3    Python               How to combine dataframes in Pandas?   \n",
              "4    Python                         What are Python libraries?   \n",
              "5    Python        What do you mean by underfitting a dataset?   \n",
              "6    Python  What Is the Difference Between Matrices and Ar...   \n",
              "7    Python  What is the Lambda function and why it is used...   \n",
              "8    Python  Write a program that checks if all of the numb...   \n",
              "9    Python  What Advantage Does the Numpy Array Have over ...   \n",
              "10   Python                 What are built-in types of Python?   \n",
              "11   Python  Is Python Object-oriented or Functional Progra...   \n",
              "12   Python                     What is inheritance in Python?   \n",
              "13   Python                         What is slicing in Python?   \n",
              "14   Python          How Is Multithreading Achieved in Python?   \n",
              "15   Python                   How is Memory managed in Python?   \n",
              "\n",
              "                                       Correct Answer  \n",
              "0   PIP denotes Python Installer Package. It is us...  \n",
              "1   The function used to copy objects in Python ar...  \n",
              "2   >> #Input\\n\\n>>p = pd.Series([1, 2, 3, 4, 5, 6...  \n",
              "3   The following are the ways through which the d...  \n",
              "4   A Python library is a group of Python packages...  \n",
              "5   Underfitting a dataset means our model is fitt...  \n",
              "6   A matrix comes from linear algebra and is a tw...  \n",
              "7   A lambda function is a type of anonymous funct...  \n",
              "8   def check_distinct(data_list):\\n\\n if len(data...  \n",
              "9   Numpy is written in C so that all its complexi...  \n",
              "10  Built in functions, Boolean, String, Complex n...  \n",
              "11  Python is considered a multi-paradigm language...  \n",
              "12  Inheritance allows one class to gain all of an...  \n",
              "13  Slicing is a technique for gaining access to s...  \n",
              "14  Multithreading usually implies that multiple t...  \n",
              "15  Python has a private heap space that stores al...  "
            ]
          },
          "execution_count": 10,
          "metadata": {},
          "output_type": "execute_result"
        }
      ],
      "source": [
        "category_data"
      ]
    },
    {
      "cell_type": "code",
      "execution_count": null,
      "id": "11ba2c95",
      "metadata": {
        "colab": {
          "base_uri": "https://localhost:8080/"
        },
        "id": "11ba2c95",
        "outputId": "d06421c1-8a9c-44a1-f777-ef85272cea0a"
      },
      "outputs": [
        {
          "name": "stdout",
          "output_type": "stream",
          "text": [
            "Q: What are built-in types of Python?\n",
            "A: string\n",
            "Q: How Do You Compute the Euclidean Distance Between Two Series, from 1 to 10?\n",
            "A: multiply\n"
          ]
        }
      ],
      "source": [
        "user_answers = []\n",
        "questions = []\n",
        "correct_answers = []\n",
        "\n",
        "num_questions = min(2, len(category_data))\n",
        "feedback = \"\"\n",
        "\n",
        "for i in range(num_questions):\n",
        "    question = category_data.loc[i, \"Question\"]\n",
        "    questions.append(question)\n",
        "\n",
        "    correct_answer = category_data.loc[i, \"Correct Answer\"]\n",
        "    correct_answers.append(correct_answer)\n",
        "\n",
        "    user_answer = input(f\"Q: {question}\\nA: \")\n",
        "    user_answers.append(user_answer)\n"
      ]
    },
    {
      "cell_type": "code",
      "execution_count": null,
      "id": "1208263e",
      "metadata": {
        "colab": {
          "base_uri": "https://localhost:8080/"
        },
        "id": "1208263e",
        "outputId": "3f9a27bc-d8c6-4315-c4ca-fb79028cdb34"
      },
      "outputs": [
        {
          "name": "stderr",
          "output_type": "stream",
          "text": [
            "<ipython-input-27-d756c9c5791b>:9: UserWarning: [W007] The model you're using has no word vectors loaded, so the result of the Doc.similarity method will be based on the tagger, parser and NER, which may not give useful similarity judgements. This may happen if you're using one of the small models, e.g. `en_core_web_sm`, which don't ship with word vectors and only use context-sensitive tensors. You can always add your own word vectors, or use one of the larger models instead if available.\n",
            "  similarity_score = user_ans_doc.similarity(correct_ans_doc)\n"
          ]
        }
      ],
      "source": [
        "scores = []\n",
        "for u, q, c in zip(user_answers, questions, correct_answers):\n",
        "  user_ans_doc = nlp(u)\n",
        "  correct_ans_doc = nlp(c)\n",
        "  similarity_score = user_ans_doc.similarity(correct_ans_doc)\n",
        "  scores.append(similarity_score)"
      ]
    },
    {
      "cell_type": "code",
      "execution_count": null,
      "id": "3334627f",
      "metadata": {
        "colab": {
          "base_uri": "https://localhost:8080/"
        },
        "id": "3334627f",
        "outputId": "ce5dbe76-3d3a-4f12-a212-fb13275f7f71"
      },
      "outputs": [
        {
          "name": "stdout",
          "output_type": "stream",
          "text": [
            "\n",
            "Feedback:\n",
            "Question: What are built-in types of Python?\n",
            "Your Answer: string\n",
            "Correct Answer: Built in functions, Boolean, String, Complex numbers, Floating point, Integers\n",
            "Your Score: 0.24\n",
            "\n",
            "Question: How Do You Compute the Euclidean Distance Between Two Series, from 1 to 10?\n",
            "Your Answer: multiply\n",
            "Correct Answer: >> #Input\n",
            "\n",
            ">>p = pd.Series([1, 2, 3, 4, 5, 6, 7, 8, 9, 10])\n",
            "\n",
            ">>q = pd.Series([10, 9, 8, 7, 6, 5, 4, 3, 2, 1])\n",
            "\n",
            ">> #Solution\n",
            "\n",
            ">>sum((p - q)**2)**.5\n",
            "\n",
            ">> #Solution using func\n",
            "\n",
            ">>np.linalg.norm(p-q)\n",
            "Your Score: -0.04\n",
            "\n",
            "\n"
          ]
        }
      ],
      "source": [
        "# Provide personalized feedback to the user based on semantic analysis\n",
        "#feedback += f\"Question: {question}\\n\"\n",
        "#feedback += f\"Your Answer: {user_answer}\\n\"\n",
        "#feedback += f\"Correct Answer: {correct_answer}\\n\"\n",
        "#feedback += f\"Your Score: {similarity_score:.2f}\\n\"\n",
        "#feedback += \"\\n\"\n",
        "for u, q, c, s in zip(user_answers, questions, correct_answers, scores):\n",
        "  feedback += f\"Question: {q}\\n\"\n",
        "  feedback += f\"Your Answer: {u}\\n\"\n",
        "  feedback += f\"Correct Answer: {c}\\n\"\n",
        "  feedback += f\"Your Score: {s:.2f}\\n\"\n",
        "  feedback += \"\\n\"\n",
        "# Display personalized feedback to the user\n",
        "print(\"\\nFeedback:\")\n",
        "print(feedback)"
      ]
    },
    {
      "cell_type": "code",
      "execution_count": null,
      "id": "1777fdb5",
      "metadata": {
        "id": "1777fdb5"
      },
      "outputs": [],
      "source": []
    }
  ],
  "metadata": {
    "colab": {
      "provenance": []
    },
    "kernelspec": {
      "display_name": "Python 3 (ipykernel)",
      "language": "python",
      "name": "python3"
    },
    "language_info": {
      "codemirror_mode": {
        "name": "ipython",
        "version": 3
      },
      "file_extension": ".py",
      "mimetype": "text/x-python",
      "name": "python",
      "nbconvert_exporter": "python",
      "pygments_lexer": "ipython3",
      "version": "3.11.4"
    }
  },
  "nbformat": 4,
  "nbformat_minor": 5
}
